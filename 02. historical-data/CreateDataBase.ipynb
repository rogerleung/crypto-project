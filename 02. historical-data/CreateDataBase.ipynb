{
 "cells": [
  {
   "cell_type": "code",
   "execution_count": 1,
   "id": "c7e23e2b",
   "metadata": {},
   "outputs": [],
   "source": [
    "import pandas as pd\n",
    "import sqlite3\n",
    "import csv\n",
    "import os\n",
    "from os.path import isfile, join"
   ]
  },
  {
   "cell_type": "code",
   "execution_count": 2,
   "id": "7ce49544",
   "metadata": {},
   "outputs": [],
   "source": [
    "def create_database():\n",
    "    con = sqlite3.connect(\"DataBase/BinanceExchangeData3.db\")\n",
    "    cur = con.cursor()\n",
    "    # Create Spot Table\n",
    "    cur.execute(\"CREATE TABLE IF NOT EXISTS Spot_1m(open_time, open, high, low, close, volume, close_time, quote_volume, no_of_trade, taker_buy_volume, taker_buy_quote_volume,ignore)\")\n",
    "    con.commit()\n",
    "    con.close()"
   ]
  },
  {
   "cell_type": "code",
   "execution_count": 3,
   "id": "22b97ba8",
   "metadata": {},
   "outputs": [
    {
     "ename": "FileNotFoundError",
     "evalue": "[WinError 3] The system cannot find the path specified: 'Data/spot/BTCUSDT/1m/'",
     "output_type": "error",
     "traceback": [
      "\u001b[1;31m---------------------------------------------------------------------------\u001b[0m",
      "\u001b[1;31mFileNotFoundError\u001b[0m                         Traceback (most recent call last)",
      "Cell \u001b[1;32mIn[3], line 2\u001b[0m\n\u001b[0;32m      1\u001b[0m data_directory \u001b[38;5;241m=\u001b[39m \u001b[38;5;124m'\u001b[39m\u001b[38;5;124mData/spot/BTCUSDT/1m/\u001b[39m\u001b[38;5;124m'\u001b[39m\n\u001b[1;32m----> 2\u001b[0m files_to_inject \u001b[38;5;241m=\u001b[39m \u001b[43mos\u001b[49m\u001b[38;5;241;43m.\u001b[39;49m\u001b[43mlistdir\u001b[49m\u001b[43m(\u001b[49m\u001b[43mdata_directory\u001b[49m\u001b[43m)\u001b[49m\n",
      "\u001b[1;31mFileNotFoundError\u001b[0m: [WinError 3] The system cannot find the path specified: 'Data/spot/BTCUSDT/1m/'"
     ]
    }
   ],
   "source": [
    "data_directory = 'Data/spot/BTCUSDT/1m/'\n",
    "files_to_inject = os.listdir(data_directory)"
   ]
  },
  {
   "cell_type": "code",
<<<<<<< HEAD
   "execution_count": null,
   "id": "8e91dea3",
   "metadata": {},
   "outputs": [],
   "source": [
    "files = [join(data_directory, f) for f in files_to_inject if isfile(join(data_directory, f))]\n",
    "\n",
    "for f in files:\n",
    "    df = pd.read_csv(f, header=None)\n",
    "\n",
    "    df.columns = [\n",
    "        'open_time', 'open', 'high', 'low', 'close', 'volume', 'close_time',\n",
    "        'quote_volume', 'no_of_trade', 'taker_buy_volume', 'taker_buy_quote_volume',\n",
    "        'ignore'\n",
    "    ]\n",
    "    df.to_csv(f, index = False)"
   ]
  },
  {
   "cell_type": "code",
   "execution_count": null,
   "id": "6da7f741",
   "metadata": {},
   "outputs": [],
   "source": []
  },
  {
   "cell_type": "code",
   "execution_count": null,
=======
   "execution_count": 6,
>>>>>>> 8de19346e8169782ce7a5100fe5d17b2de7a325b
   "id": "3bc06580",
   "metadata": {},
   "outputs": [],
   "source": [
    "## refresh files\n",
    "files_to_inject = os.listdir(data_directory)"
   ]
  },
  {
   "cell_type": "code",
   "execution_count": null,
   "id": "84459f6b",
   "metadata": {},
   "outputs": [],
   "source": [
    "for i in files_to_inject:\n",
    "\n",
    "    with open(data_directory + i,\n",
    "              'r') as fin:  # `with` statement available in 2.5+\n",
    "        # csv.DictReader uses first line in file for column headings by default\n",
    "        dr = csv.DictReader(fin)  # comma is default delimiter\n",
    "        to_db = [(i['open_time'], i['open'], i['high'], i['low'], i['close'], i['volume'],\n",
    "                  i['close_time'], i['quote_volume'], i['count'], i['taker_buy_volume'], i['taker_buy_quote_volume'], i['ignore'])\n",
    "                 for i in dr]\n",
    "\n",
    "    cur.executemany(\n",
    "        \"INSERT INTO Spot_1m (open_time, open, high, low, close, volume, close_time, quote_volume, count, taker_buy_volume, taker_buy_quote_volume,ignore) VALUES (?, ?, ?, ?, ?, ?, ?, ?, ?, ?, ?, ?);\",\n",
    "        to_db)\n",
    "    con.commit()"
   ]
  },
  {
   "cell_type": "code",
   "execution_count": null,
   "id": "316e0733",
   "metadata": {},
   "outputs": [],
   "source": [
    "res = cur.execute(\"SELECT * FROM Spot_1m limit 10\")"
   ]
  },
  {
   "cell_type": "code",
   "execution_count": null,
   "id": "948ef979",
   "metadata": {},
   "outputs": [],
   "source": [
    "df = pd.read_sql_query(\"SELECT * FROM Spot_1m\", con)"
   ]
  },
  {
   "cell_type": "code",
   "execution_count": null,
   "id": "67fc52f8",
   "metadata": {},
   "outputs": [],
   "source": [
    "df.head()"
   ]
  },
  {
   "cell_type": "code",
   "execution_count": null,
   "id": "0ca86cdd",
   "metadata": {},
   "outputs": [],
   "source": [
    "con.close()"
   ]
  },
  {
   "cell_type": "code",
   "execution_count": null,
   "id": "47f408eb",
   "metadata": {},
   "outputs": [],
   "source": []
  }
 ],
 "metadata": {
  "kernelspec": {
   "display_name": "Python 3 (ipykernel)",
   "language": "python",
   "name": "python3"
  },
  "language_info": {
   "codemirror_mode": {
    "name": "ipython",
    "version": 3
   },
   "file_extension": ".py",
   "mimetype": "text/x-python",
   "name": "python",
   "nbconvert_exporter": "python",
   "pygments_lexer": "ipython3",
   "version": "3.10.9"
  }
 },
 "nbformat": 4,
 "nbformat_minor": 5
}
